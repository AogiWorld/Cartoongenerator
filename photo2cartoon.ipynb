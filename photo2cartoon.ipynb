{
  "nbformat": 4,
  "nbformat_minor": 0,
  "metadata": {
    "colab": {
      "name": "photo2cartoon.ipynb",
      "provenance": [],
      "authorship_tag": "ABX9TyOl36nkHQmKrEeRxcwp/8W1",
      "include_colab_link": true
    },
    "kernelspec": {
      "name": "python3",
      "display_name": "Python 3"
    },
    "accelerator": "GPU"
  },
  "cells": [
    {
      "cell_type": "markdown",
      "metadata": {
        "id": "view-in-github",
        "colab_type": "text"
      },
      "source": [
        "<a href=\"https://colab.research.google.com/github/ak9250/photo2cartoon/blob/master/photo2cartoon.ipynb\" target=\"_parent\"><img src=\"https://colab.research.google.com/assets/colab-badge.svg\" alt=\"Open In Colab\"/></a>"
      ]
    },
    {
      "cell_type": "code",
      "metadata": {
        "id": "3jMpuLdtT38J",
        "colab_type": "code",
        "colab": {}
      },
      "source": [
        "!git clone https://github.com/minivision-ai/photo2cartoon.git"
      ],
      "execution_count": null,
      "outputs": []
    },
    {
      "cell_type": "code",
      "metadata": {
        "id": "7n1LxA6sUCuE",
        "colab_type": "code",
        "colab": {}
      },
      "source": [
        "cd photo2cartoon"
      ],
      "execution_count": null,
      "outputs": []
    },
    {
      "cell_type": "code",
      "metadata": {
        "id": "F7q3VzJfUTvZ",
        "colab_type": "code",
        "colab": {}
      },
      "source": [
        "!gdown https://drive.google.com/uc?id=1lsQS8hOCquMFKJFhK_z-n03ixWGkjT2P"
      ],
      "execution_count": null,
      "outputs": []
    },
    {
      "cell_type": "code",
      "metadata": {
        "id": "I9ScmOM2Uaf2",
        "colab_type": "code",
        "colab": {}
      },
      "source": [
        "!unzip photo2cartoon_resources_20200504.zip"
      ],
      "execution_count": null,
      "outputs": []
    },
    {
      "cell_type": "code",
      "metadata": {
        "id": "E9SDxAKCU8N3",
        "colab_type": "code",
        "colab": {}
      },
      "source": [
        "pip install face_alignment"
      ],
      "execution_count": null,
      "outputs": []
    },
    {
      "cell_type": "code",
      "metadata": {
        "id": "UKgcQZL1VKol",
        "colab_type": "code",
        "colab": {}
      },
      "source": [
        "!pip install tensorflow-gpu==1.14"
      ],
      "execution_count": null,
      "outputs": []
    },
    {
      "cell_type": "code",
      "metadata": {
        "id": "5jbw7FOjVuIF",
        "colab_type": "code",
        "colab": {}
      },
      "source": [
        "!pip install tensorflow==1.14"
      ],
      "execution_count": null,
      "outputs": []
    },
    {
      "cell_type": "code",
      "metadata": {
        "id": "C-GUA_jOUeiY",
        "colab_type": "code",
        "colab": {}
      },
      "source": [
        "!python test.py --photo_path ./images/photo_test.jpg --save_path ./images/cartoon_result.jpg"
      ],
      "execution_count": null,
      "outputs": []
    }
  ]
}